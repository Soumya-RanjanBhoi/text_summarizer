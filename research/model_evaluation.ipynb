{
 "cells": [
  {
   "cell_type": "code",
   "execution_count": 4,
   "id": "f2b59f35",
   "metadata": {},
   "outputs": [],
   "source": [
    "import os"
   ]
  },
  {
   "cell_type": "code",
   "execution_count": 6,
   "id": "9075be00",
   "metadata": {},
   "outputs": [
    {
     "data": {
      "text/plain": [
       "'D:\\\\text_Summerizer\\\\text_summarizer'"
      ]
     },
     "execution_count": 6,
     "metadata": {},
     "output_type": "execute_result"
    }
   ],
   "source": [
    "%pwd"
   ]
  },
  {
   "cell_type": "code",
   "execution_count": 7,
   "id": "b24237da",
   "metadata": {},
   "outputs": [],
   "source": [
    "import torch"
   ]
  },
  {
   "cell_type": "code",
   "execution_count": 5,
   "id": "8bc9486a",
   "metadata": {},
   "outputs": [],
   "source": [
    "os.chdir(\"D:/text_Summerizer/text_summarizer\")"
   ]
  },
  {
   "cell_type": "code",
   "execution_count": 9,
   "id": "af68f90e",
   "metadata": {},
   "outputs": [],
   "source": [
    "from dataclasses import dataclass\n",
    "from pathlib import Path\n",
    "\n",
    "@dataclass(frozen=True)\n",
    "class ModelEvaluationConfig:\n",
    "    root_dir:Path\n",
    "    data_path: Path\n",
    "    model_path: Path\n",
    "    metric_file_name: Path"
   ]
  },
  {
   "cell_type": "code",
   "execution_count": 10,
   "id": "bb807c2e",
   "metadata": {},
   "outputs": [],
   "source": [
    "from textSummarizer.constants import *\n",
    "from textSummarizer.utils.common import read_yaml,create_directories\n"
   ]
  },
  {
   "cell_type": "code",
   "execution_count": 11,
   "id": "5eb540e8",
   "metadata": {},
   "outputs": [],
   "source": [
    "class ConfriguationManager:\n",
    "    def __init__(self,\n",
    "                config_file_path=CONFIG_FILE_PATH,\n",
    "                params_file_path=PARAMS_FILE_PATH):\n",
    "        self.config=read_yaml(config_file_path)\n",
    "        self.params=read_yaml(params_file_path)\n",
    "\n",
    "        create_directories([self.config.artifacts_root])\n",
    "\n",
    "    def get_model_evaluation_config(self) -> ModelEvaluationConfig:\n",
    "        config=self.config.model_evaluation\n",
    "\n",
    "        create_directories([config.root_dir])\n",
    "\n",
    "        model_evaluation_config=ModelEvaluationConfig(\n",
    "            root_dir =config.root_dir,\n",
    "            data_path=config.data_path,\n",
    "            model_path=config.model_path,\n",
    "            metric_file_name=config.metric_file_name\n",
    "        )\n",
    "\n",
    "        return model_evaluation_config\n",
    "    "
   ]
  },
  {
   "cell_type": "code",
   "execution_count": 12,
   "id": "d44d236e",
   "metadata": {},
   "outputs": [
    {
     "name": "stderr",
     "output_type": "stream",
     "text": [
      "d:\\text_Summerizer\\text_summarizer\\tsum_env\\Lib\\site-packages\\tqdm\\auto.py:21: TqdmWarning: IProgress not found. Please update jupyter and ipywidgets. See https://ipywidgets.readthedocs.io/en/stable/user_install.html\n",
      "  from .autonotebook import tqdm as notebook_tqdm\n"
     ]
    }
   ],
   "source": [
    "from transformers import AutoModelForSeq2SeqLM,AutoTokenizer\n",
    "from datasets import load_dataset,load_from_disk\n",
    "import pandas as pd\n",
    "from tqdm import tqdm\n",
    "import torch"
   ]
  },
  {
   "cell_type": "code",
   "execution_count": 10,
   "id": "dbe22f44",
   "metadata": {},
   "outputs": [],
   "source": [
    "!pip install evaluate -q"
   ]
  },
  {
   "cell_type": "code",
   "execution_count": 13,
   "id": "cfce998a",
   "metadata": {},
   "outputs": [
    {
     "data": {
      "text/plain": [
       "'cuda'"
      ]
     },
     "execution_count": 13,
     "metadata": {},
     "output_type": "execute_result"
    }
   ],
   "source": [
    "device=\"cuda\" if torch.cuda.is_available else \"cpu\"\n",
    "device"
   ]
  },
  {
   "cell_type": "code",
   "execution_count": 14,
   "id": "f69893c3",
   "metadata": {},
   "outputs": [],
   "source": [
    "import evaluate"
   ]
  },
  {
   "cell_type": "code",
   "execution_count": 18,
   "id": "5d86dc59",
   "metadata": {},
   "outputs": [],
   "source": [
    "class ModelEvaluation:\n",
    "    def __init__(self, config):\n",
    "        self.config = config\n",
    "\n",
    "    def generate_batch_sized_chunks(self, list_of_elements, batch_size):\n",
    "        for i in range(0, len(list_of_elements), batch_size):\n",
    "            yield list_of_elements[i:i + batch_size]\n",
    "\n",
    "    def calculate_metric_on_test_ds(self,dataset,metric,model,tokenizer,batch_size=16,column_text=\"article\",column_summary=\"highlights\",device=\"cpu\"):\n",
    "        article_batches = list(self.generate_batch_sized_chunks(dataset[column_text], batch_size))\n",
    "        target_batches = list(self.generate_batch_sized_chunks(dataset[column_summary], batch_size))\n",
    "\n",
    "        for article_batch, target_batch in tqdm(zip(article_batches, target_batches), total=len(article_batches)):\n",
    "            inputs = tokenizer(article_batch,max_length=1024,truncation=True,padding=\"max_length\",return_tensors=\"pt\")\n",
    "            summaries = model.generate(input_ids=inputs[\"input_ids\"].to(device),attention_mask=inputs[\"attention_mask\"].to(device),length_penalty=0.8,num_beams=8,max_length=256,early_stopping=True)\n",
    "            decoded_summaries = [\n",
    "                tokenizer.decode(s, skip_special_tokens=True, clean_up_tokenization_spaces=True)\n",
    "                for s in summaries\n",
    "            ]\n",
    "            metric.add_batch(predictions=decoded_summaries, references=target_batch)\n",
    "\n",
    "        score = metric.compute()\n",
    "        return score\n",
    "\n",
    "    def evaluate(self):\n",
    "\n",
    "        device = torch.device(\"cuda\" if torch.cuda.is_available() else \"cpu\")\n",
    "        tokenizer = AutoTokenizer.from_pretrained(self.config.model_path)\n",
    "        model_bart = AutoModelForSeq2SeqLM.from_pretrained(self.config.model_path).to(device)\n",
    "\n",
    "        dataset_samsum_pt = load_from_disk(self.config.data_path)\n",
    "\n",
    "        rouge_names = ['rouge1', 'rouge2', 'rougeL', 'rougeLsum']\n",
    "        rouge_metric = evaluate.load('rouge')\n",
    "\n",
    "        score = self.calculate_metric_on_test_ds(dataset=dataset_samsum_pt['test'][0:10],metric=rouge_metric,model=model_bart,tokenizer=tokenizer,batch_size=4,column_text='dialogue',column_summary='summary',device=device)\n",
    "\n",
    "        rouge_dict = {rn: score[rn] for rn in rouge_names}\n",
    "        df = pd.DataFrame(rouge_dict, index=['bart'])\n",
    "\n",
    "        return df.to_csv(self.config.metric_file_name, index=False)\n"
   ]
  },
  {
   "cell_type": "code",
   "execution_count": 16,
   "id": "89accaca",
   "metadata": {},
   "outputs": [
    {
     "data": {
      "text/plain": [
       "device(type='cuda')"
      ]
     },
     "execution_count": 16,
     "metadata": {},
     "output_type": "execute_result"
    }
   ],
   "source": [
    "device = torch.device(\"cuda\" if torch.cuda.is_available() else \"cpu\")\n",
    "device"
   ]
  },
  {
   "cell_type": "code",
   "execution_count": null,
   "id": "cba61dad",
   "metadata": {},
   "outputs": [],
   "source": [
    "try:\n",
    "    config=ConfriguationManager()\n",
    "    data_evaluation_config=config.get_model_evaluation_config()\n",
    "    data_evaluation=ModelEvaluation(config=data_evaluation_config)\n",
    "    data_evaluation.evaluate()\n",
    "except Exception as e:\n",
    "    raise e"
   ]
  }
 ],
 "metadata": {
  "kernelspec": {
   "display_name": "tsum_env",
   "language": "python",
   "name": "python3"
  },
  "language_info": {
   "codemirror_mode": {
    "name": "ipython",
    "version": 3
   },
   "file_extension": ".py",
   "mimetype": "text/x-python",
   "name": "python",
   "nbconvert_exporter": "python",
   "pygments_lexer": "ipython3",
   "version": "3.13.3"
  }
 },
 "nbformat": 4,
 "nbformat_minor": 5
}
