{
 "cells": [
  {
   "cell_type": "code",
   "execution_count": 1,
   "id": "43850b01",
   "metadata": {},
   "outputs": [
    {
     "name": "stderr",
     "output_type": "stream",
     "text": [
      "d:\\text_Summerizer\\text_summarizer\\tsum_env\\Lib\\site-packages\\tqdm\\auto.py:21: TqdmWarning: IProgress not found. Please update jupyter and ipywidgets. See https://ipywidgets.readthedocs.io/en/stable/user_install.html\n",
      "  from .autonotebook import tqdm as notebook_tqdm\n"
     ]
    }
   ],
   "source": [
    "from transformers import AutoModelForSeq2SeqLM, AutoTokenizer, pipeline"
   ]
  },
  {
   "cell_type": "code",
   "execution_count": null,
   "id": "14fb02c5",
   "metadata": {},
   "outputs": [],
   "source": [
    "model = AutoModelForSeq2SeqLM.from_pretrained(\"facebook/bart-large-cnn\")\n",
    "tokenizer = AutoTokenizer.from_pretrained(\"facebook/bart-large-cnn\")\n",
    "\n",
    "pipe = pipeline(\"summarization\", model=model, tokenizer=tokenizer)"
   ]
  },
  {
   "cell_type": "code",
   "execution_count": 2,
   "id": "3d8cb376",
   "metadata": {},
   "outputs": [],
   "source": [
    "original_text=\"\"\"Once upon a time in a small village nestled between green hills, there lived a young boy named Arjun. He was curious, brave, and loved exploring the forests near his home. One day, while wandering deeper than ever before, he stumbled upon an injured baby deer trapped under a fallen tree. Despite being scared, Arjun carefully lifted the branches and freed the animal.\n",
    "Grateful, the deer followed him back to the village, and soon, the villagers noticed that it had extraordinary abilities—it could find hidden water sources, alert people to danger, and even heal minor wounds with its presence. Word of the magical deer spread, attracting travelers and merchants from faraway lands.\n",
    "However, not everyone had good intentions. A greedy landowner wanted to capture the deer and exploit its powers for profit. Arjun, understanding the danger, devised a plan. He led the deer to the hills and created a secret sanctuary where only those with pure hearts could find it.\n",
    "Years passed, and Arjun grew up to become a wise protector of the forest. The deer lived safely, helping those who respected nature. The village prospered, and people learned an important lesson: true courage and kindness can protect what is precious, and sometimes, the smallest acts of bravery can change the fate of many.\"\"\""
   ]
  },
  {
   "cell_type": "code",
   "execution_count": null,
   "id": "4a20b429",
   "metadata": {},
   "outputs": [],
   "source": [
    "gen_kwargs = {\n",
    "    \"max_length\": 300,\n",
    "    \"min_length\": 100,\n",
    "    \"num_beams\": 4,\n",
    "    \"length_penalty\": 2.0,\n",
    "    \"early_stopping\": True,\n",
    "}\n"
   ]
  },
  {
   "cell_type": "code",
   "execution_count": 70,
   "id": "5323a727",
   "metadata": {},
   "outputs": [
    {
     "name": "stderr",
     "output_type": "stream",
     "text": [
      "Your max_length is set to 300, but your input_length is only 268. Since this is a summarization task, where outputs shorter than the input are typically wanted, you might consider decreasing max_length manually, e.g. summarizer('...', max_length=134)\n"
     ]
    },
    {
     "data": {
      "text/plain": [
       "[{'summary_text': 'A young boy named Arjun found an injured baby deer trapped under a fallen tree. The deer had extraordinary abilities, including the ability to find hidden water sources and alert people to danger. A greedy landowner wanted to capture the deer and exploit its powers for profit. Arjun, understanding the danger, devised a plan. He led the deer to the hills and created a secret sanctuary where only those with pure hearts could find it.Years passed, and Arjun grew up to become a wise protector of the forest. The village prospered, and people learned an important lesson.'}]"
      ]
     },
     "execution_count": 70,
     "metadata": {},
     "output_type": "execute_result"
    }
   ],
   "source": [
    "text = \"summarize: \" + original_text\n",
    "pipe(text, **gen_kwargs)"
   ]
  },
  {
   "cell_type": "code",
   "execution_count": 73,
   "id": "c0d367ac",
   "metadata": {},
   "outputs": [
    {
     "name": "stderr",
     "output_type": "stream",
     "text": [
      "d:\\text_Summerizer\\text_summarizer\\tsum_env\\Lib\\site-packages\\transformers\\modeling_utils.py:4037: UserWarning: Moving the following attributes in the config to the generation config: {'max_length': 142, 'min_length': 56, 'early_stopping': True, 'num_beams': 4, 'length_penalty': 2.0, 'no_repeat_ngram_size': 3, 'forced_bos_token_id': 0}. You are seeing this warning because you've set generation parameters in the model config, as opposed to in the generation config.\n",
      "  warnings.warn(\n"
     ]
    },
    {
     "data": {
      "text/plain": [
       "('facebook_tokenizer\\\\tokenizer_config.json',\n",
       " 'facebook_tokenizer\\\\special_tokens_map.json',\n",
       " 'facebook_tokenizer\\\\vocab.json',\n",
       " 'facebook_tokenizer\\\\merges.txt',\n",
       " 'facebook_tokenizer\\\\added_tokens.json',\n",
       " 'facebook_tokenizer\\\\tokenizer.json')"
      ]
     },
     "execution_count": 73,
     "metadata": {},
     "output_type": "execute_result"
    }
   ],
   "source": [
    "model.save_pretrained(\"facebbok_model\")\n",
    "tokenizer.save_pretrained(\"facebook_tokenizer\")\n"
   ]
  },
  {
   "cell_type": "code",
   "execution_count": 3,
   "id": "3e6887c6",
   "metadata": {},
   "outputs": [],
   "source": [
    "import os"
   ]
  },
  {
   "cell_type": "code",
   "execution_count": 6,
   "id": "0f73e493",
   "metadata": {},
   "outputs": [
    {
     "data": {
      "text/plain": [
       "'d:\\\\text_Summerizer\\\\text_summarizer'"
      ]
     },
     "execution_count": 6,
     "metadata": {},
     "output_type": "execute_result"
    }
   ],
   "source": [
    "%pwd"
   ]
  },
  {
   "cell_type": "code",
   "execution_count": 5,
   "id": "de78fc5d",
   "metadata": {},
   "outputs": [],
   "source": [
    "os.chdir(\"../\")"
   ]
  },
  {
   "cell_type": "code",
   "execution_count": 7,
   "id": "ebd7fa84",
   "metadata": {},
   "outputs": [],
   "source": [
    "path=\"artifacts/model_trainer/facebook_model\""
   ]
  },
  {
   "cell_type": "code",
   "execution_count": 8,
   "id": "12b59517",
   "metadata": {},
   "outputs": [
    {
     "name": "stderr",
     "output_type": "stream",
     "text": [
      "d:\\text_Summerizer\\text_summarizer\\tsum_env\\Lib\\site-packages\\transformers\\models\\bart\\configuration_bart.py:177: UserWarning: Please make sure the config includes `forced_bos_token_id=0` in future versions. The config can simply be saved and uploaded again to be fixed.\n",
      "  warnings.warn(\n"
     ]
    }
   ],
   "source": [
    "imp_model=AutoModelForSeq2SeqLM.from_pretrained(path)\n",
    "imp_token=AutoTokenizer.from_pretrained(path)"
   ]
  },
  {
   "cell_type": "code",
   "execution_count": 9,
   "id": "da85f51d",
   "metadata": {},
   "outputs": [],
   "source": [
    "text = \"summarize: \" + original_text"
   ]
  },
  {
   "cell_type": "code",
   "execution_count": 12,
   "id": "720aaf6f",
   "metadata": {},
   "outputs": [
    {
     "name": "stderr",
     "output_type": "stream",
     "text": [
      "Device set to use cuda:0\n",
      "Your max_length is set to 300, but your input_length is only 268. Since this is a summarization task, where outputs shorter than the input are typically wanted, you might consider decreasing max_length manually, e.g. summarizer('...', max_length=134)\n"
     ]
    }
   ],
   "source": [
    "pipe = pipeline(\"summarization\", model=imp_model, tokenizer=imp_token)\n",
    "output=pipe(text, **gen_kwargs)\n"
   ]
  },
  {
   "cell_type": "code",
   "execution_count": 13,
   "id": "263399de",
   "metadata": {},
   "outputs": [
    {
     "data": {
      "text/plain": [
       "'A young boy named Arjun found an injured baby deer trapped under a fallen tree. The deer had extraordinary abilities, including the ability to find hidden water sources and alert people to danger. A greedy landowner wanted to capture the deer and exploit its powers for profit. Arjun, understanding the danger, devised a plan. He led the deer to the hills and created a secret sanctuary where only those with pure hearts could find it.Years passed, and Arjun grew up to become a wise protector of the forest. The village prospered, and people learned an important lesson.'"
      ]
     },
     "execution_count": 13,
     "metadata": {},
     "output_type": "execute_result"
    }
   ],
   "source": [
    "trans_text=output[0][\"summary_text\"]\n",
    "trans_text"
   ]
  },
  {
   "cell_type": "code",
   "execution_count": 14,
   "id": "e2e3bf1b",
   "metadata": {},
   "outputs": [],
   "source": [
    "import torch\n",
    "from transformers import AutoModelForCausalLM, pipeline"
   ]
  },
  {
   "cell_type": "code",
   "execution_count": 18,
   "id": "7937a5f6",
   "metadata": {},
   "outputs": [],
   "source": [
    "trans_path=\"Helsinki-NLP/opus-mt-en-hi\""
   ]
  },
  {
   "cell_type": "code",
   "execution_count": 20,
   "id": "dfb7d860",
   "metadata": {},
   "outputs": [
    {
     "name": "stderr",
     "output_type": "stream",
     "text": [
      "d:\\text_Summerizer\\text_summarizer\\tsum_env\\Lib\\site-packages\\transformers\\models\\marian\\tokenization_marian.py:175: UserWarning: Recommended: pip install sacremoses.\n",
      "  warnings.warn(\"Recommended: pip install sacremoses.\")\n"
     ]
    },
    {
     "name": "stderr",
     "output_type": "stream",
     "text": [
      "Xet Storage is enabled for this repo, but the 'hf_xet' package is not installed. Falling back to regular HTTP download. For better performance, install the package with: `pip install huggingface_hub[hf_xet]` or `pip install hf_xet`\n"
     ]
    }
   ],
   "source": [
    "trans_tokenizer=AutoTokenizer.from_pretrained(trans_path)\n",
    "trans_model=AutoModelForSeq2SeqLM.from_pretrained(trans_path)"
   ]
  },
  {
   "cell_type": "code",
   "execution_count": 21,
   "id": "ac1ae691",
   "metadata": {},
   "outputs": [
    {
     "name": "stderr",
     "output_type": "stream",
     "text": [
      "Device set to use cuda:0\n"
     ]
    }
   ],
   "source": [
    "trans_=pipeline(\"translation\", model=\"Helsinki-NLP/opus-mt-en-hi\")"
   ]
  },
  {
   "cell_type": "code",
   "execution_count": 24,
   "id": "2ee78ec1",
   "metadata": {},
   "outputs": [
    {
     "data": {
      "text/plain": [
       "'एक नौजवान ने एक घायल बच्चे को एक जंगली पेड़ के नीचे फंसते हुए पाया. हिरणों के पास असाधारण क्षमता थी, जिसमें गुप्त जल स्रोत और खतरे के लिए सतर्क लोगों को खोजने की क्षमता भी शामिल थी. एक लालची भूमि मालिक चाहता था कि हरिण को पकड़ ले और अपने बलों को लाभ पहुँचाने के लिए उसकी शक्\\u200dति का लाभ उठाना चाहता था. एक आदमी, समझ - प्राप्त करना चाहता था कि एक योजना, एक योजना की ओर ले जाता है. वहाँ एक रहस्य और वहाँ उन लोगों को पाया जाता है जो एक पाकस्थान के साथ रहते थे, और एक बुद्धिमान गाँव में रहते थे. यह एक बहुत ही बुद्धिमान गाँव के लिए एक बहुत बड़ा सबक है.'"
      ]
     },
     "execution_count": 24,
     "metadata": {},
     "output_type": "execute_result"
    }
   ],
   "source": [
    "trans_(trans_text)[0]['translation_text']"
   ]
  },
  {
   "cell_type": "code",
   "execution_count": 25,
   "id": "f5ca1b92",
   "metadata": {},
   "outputs": [
    {
     "name": "stderr",
     "output_type": "stream",
     "text": [
      "d:\\text_Summerizer\\text_summarizer\\tsum_env\\Lib\\site-packages\\transformers\\modeling_utils.py:4037: UserWarning: Moving the following attributes in the config to the generation config: {'max_length': 512, 'num_beams': 4, 'bad_words_ids': [[61949]]}. You are seeing this warning because you've set generation parameters in the model config, as opposed to in the generation config.\n",
      "  warnings.warn(\n"
     ]
    }
   ],
   "source": [
    "trans_model.save_pretrained(\"translation_model\")"
   ]
  },
  {
   "cell_type": "code",
   "execution_count": 27,
   "id": "3c9d5054",
   "metadata": {},
   "outputs": [
    {
     "data": {
      "text/plain": [
       "('translation_tokenizer\\\\tokenizer_config.json',\n",
       " 'translation_tokenizer\\\\special_tokens_map.json',\n",
       " 'translation_tokenizer\\\\vocab.json',\n",
       " 'translation_tokenizer\\\\source.spm',\n",
       " 'translation_tokenizer\\\\target.spm',\n",
       " 'translation_tokenizer\\\\added_tokens.json')"
      ]
     },
     "execution_count": 27,
     "metadata": {},
     "output_type": "execute_result"
    }
   ],
   "source": [
    "trans_tokenizer.save_pretrained(\"translation_tokenizer\")"
   ]
  },
  {
   "cell_type": "code",
   "execution_count": 15,
   "id": "0dad7f1b",
   "metadata": {},
   "outputs": [
    {
     "name": "stderr",
     "output_type": "stream",
     "text": [
      "d:\\text_Summerizer\\text_summarizer\\tsum_env\\Lib\\site-packages\\transformers\\models\\marian\\tokenization_marian.py:175: UserWarning: Recommended: pip install sacremoses.\n",
      "  warnings.warn(\"Recommended: pip install sacremoses.\")\n"
     ]
    }
   ],
   "source": [
    "tokenizer=AutoTokenizer.from_pretrained(\"artifacts/model_translation/translation_tokenizer\")\n",
    "model=AutoModelForSeq2SeqLM.from_pretrained(\"artifacts/model_translation/translation_model\")"
   ]
  },
  {
   "cell_type": "code",
   "execution_count": 16,
   "id": "827531eb",
   "metadata": {},
   "outputs": [
    {
     "name": "stderr",
     "output_type": "stream",
     "text": [
      "Device set to use cuda:0\n"
     ]
    }
   ],
   "source": [
    "trans_pipe=pipeline(\"translation\",model=model,tokenizer=tokenizer)"
   ]
  },
  {
   "cell_type": "code",
   "execution_count": 17,
   "id": "d6a09dc6",
   "metadata": {},
   "outputs": [],
   "source": [
    "output=trans_pipe(trans_text)[0]['translation_text']"
   ]
  },
  {
   "cell_type": "code",
   "execution_count": 18,
   "id": "932c0b85",
   "metadata": {},
   "outputs": [
    {
     "data": {
      "text/plain": [
       "'एक नौजवान ने एक घायल बच्चे को एक जंगली पेड़ के नीचे फंसते हुए पाया. हिरणों के पास असाधारण क्षमता थी, जिसमें गुप्त जल स्रोत और खतरे के लिए सतर्क लोगों को खोजने की क्षमता भी शामिल थी. एक लालची भूमि मालिक चाहता था कि हरिण को पकड़ ले और अपने बलों को लाभ पहुँचाने के लिए उसकी शक्\\u200dति का लाभ उठाना चाहता था. एक आदमी, समझ - प्राप्त करना चाहता था कि एक योजना, एक योजना की ओर ले जाता है. वहाँ एक रहस्य और वहाँ उन लोगों को पाया जाता है जो एक पाकस्थान के साथ रहते थे, और एक बुद्धिमान गाँव में रहते थे. यह एक बहुत ही बुद्धिमान गाँव के लिए एक बहुत बड़ा सबक है.'"
      ]
     },
     "execution_count": 18,
     "metadata": {},
     "output_type": "execute_result"
    }
   ],
   "source": [
    "output"
   ]
  }
 ],
 "metadata": {
  "kernelspec": {
   "display_name": "tsum_env",
   "language": "python",
   "name": "python3"
  },
  "language_info": {
   "codemirror_mode": {
    "name": "ipython",
    "version": 3
   },
   "file_extension": ".py",
   "mimetype": "text/x-python",
   "name": "python",
   "nbconvert_exporter": "python",
   "pygments_lexer": "ipython3",
   "version": "3.13.3"
  }
 },
 "nbformat": 4,
 "nbformat_minor": 5
}
